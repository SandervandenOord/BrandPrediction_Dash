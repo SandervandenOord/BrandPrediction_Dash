{
 "cells": [
  {
   "cell_type": "markdown",
   "metadata": {},
   "source": [
    "# Training a model to predict the brand of a health product from just the title of that product"
   ]
  },
  {
   "cell_type": "code",
   "execution_count": 1,
   "metadata": {},
   "outputs": [],
   "source": [
    "# import necessary libaries\n",
    "\n",
    "# data wrangling\n",
    "import numpy as np\n",
    "import pandas as pd\n",
    "\n",
    "# machine learning\n",
    "from sklearn.model_selection import train_test_split\n",
    "\n",
    "from sklearn.pipeline import Pipeline\n",
    "from sklearn.feature_extraction.text import TfidfVectorizer\n",
    "from sklearn.linear_model import SGDClassifier\n",
    "\n",
    "from sklearn.metrics import accuracy_score\n",
    "\n",
    "from joblib import dump, load"
   ]
  },
  {
   "cell_type": "code",
   "execution_count": 2,
   "metadata": {},
   "outputs": [
    {
     "data": {
      "text/html": [
       "<div>\n",
       "<style scoped>\n",
       "    .dataframe tbody tr th:only-of-type {\n",
       "        vertical-align: middle;\n",
       "    }\n",
       "\n",
       "    .dataframe tbody tr th {\n",
       "        vertical-align: top;\n",
       "    }\n",
       "\n",
       "    .dataframe thead th {\n",
       "        text-align: right;\n",
       "    }\n",
       "</style>\n",
       "<table border=\"1\" class=\"dataframe\">\n",
       "  <thead>\n",
       "    <tr style=\"text-align: right;\">\n",
       "      <th></th>\n",
       "      <th>global_id</th>\n",
       "      <th>title</th>\n",
       "      <th>brand_id</th>\n",
       "      <th>brand_name</th>\n",
       "    </tr>\n",
       "  </thead>\n",
       "  <tbody>\n",
       "    <tr>\n",
       "      <th>0</th>\n",
       "      <td>1004004012991345</td>\n",
       "      <td>Create The Look Lipgloss Set</td>\n",
       "      <td>nan</td>\n",
       "      <td>NaN</td>\n",
       "    </tr>\n",
       "    <tr>\n",
       "      <th>1</th>\n",
       "      <td>9000000012514720</td>\n",
       "      <td>Beurer BS69 Spiegel met Verlichting</td>\n",
       "      <td>4493486.000</td>\n",
       "      <td>Beurer</td>\n",
       "    </tr>\n",
       "    <tr>\n",
       "      <th>2</th>\n",
       "      <td>9000000012514722</td>\n",
       "      <td>Beurer BS49 Spiegel met Verlichting</td>\n",
       "      <td>4493486.000</td>\n",
       "      <td>Beurer</td>\n",
       "    </tr>\n",
       "  </tbody>\n",
       "</table>\n",
       "</div>"
      ],
      "text/plain": [
       "          global_id                                title    brand_id  \\\n",
       "0  1004004012991345         Create The Look Lipgloss Set         nan   \n",
       "1  9000000012514720  Beurer BS69 Spiegel met Verlichting 4493486.000   \n",
       "2  9000000012514722  Beurer BS49 Spiegel met Verlichting 4493486.000   \n",
       "\n",
       "  brand_name  \n",
       "0        NaN  \n",
       "1     Beurer  \n",
       "2     Beurer  "
      ]
     },
     "execution_count": 2,
     "metadata": {},
     "output_type": "execute_result"
    }
   ],
   "source": [
    "# import data\n",
    "data = pd.read_csv(\n",
    "    'beauty_leverbaar_20160729.txt', \n",
    "    sep='\\t', \n",
    "    encoding='utf-8', \n",
    "    header=None, \n",
    "    usecols=[0, 1, 3, 4], \n",
    "    names=['global_id', 'title', 'brand_id', 'brand_name'],\n",
    ")\n",
    "data.head(3)"
   ]
  },
  {
   "cell_type": "code",
   "execution_count": 3,
   "metadata": {},
   "outputs": [],
   "source": [
    "# data for test and train (where brand_id is not null)\n",
    "df_brand = data[data['brand_id'].notnull()].reset_index(drop=True)\n",
    "df_brand['brand_id'] = df_brand['brand_id'].astype(int)\n",
    "\n",
    "# data for real validation (where brand_id is null)\n",
    "df_no_brand = data[data['brand_id'].isnull()].reset_index(drop=True)"
   ]
  },
  {
   "cell_type": "code",
   "execution_count": 4,
   "metadata": {},
   "outputs": [
    {
     "data": {
      "text/html": [
       "<div>\n",
       "<style scoped>\n",
       "    .dataframe tbody tr th:only-of-type {\n",
       "        vertical-align: middle;\n",
       "    }\n",
       "\n",
       "    .dataframe tbody tr th {\n",
       "        vertical-align: top;\n",
       "    }\n",
       "\n",
       "    .dataframe thead th {\n",
       "        text-align: right;\n",
       "    }\n",
       "</style>\n",
       "<table border=\"1\" class=\"dataframe\">\n",
       "  <thead>\n",
       "    <tr style=\"text-align: right;\">\n",
       "      <th></th>\n",
       "      <th>global_id</th>\n",
       "      <th>title</th>\n",
       "      <th>brand_id</th>\n",
       "      <th>brand_name</th>\n",
       "    </tr>\n",
       "  </thead>\n",
       "  <tbody>\n",
       "    <tr>\n",
       "      <th>0</th>\n",
       "      <td>9000000012514720</td>\n",
       "      <td>Beurer BS69 Spiegel met Verlichting</td>\n",
       "      <td>4493486</td>\n",
       "      <td>Beurer</td>\n",
       "    </tr>\n",
       "    <tr>\n",
       "      <th>1</th>\n",
       "      <td>9000000012514722</td>\n",
       "      <td>Beurer BS49 Spiegel met Verlichting</td>\n",
       "      <td>4493486</td>\n",
       "      <td>Beurer</td>\n",
       "    </tr>\n",
       "    <tr>\n",
       "      <th>2</th>\n",
       "      <td>9200000002890724</td>\n",
       "      <td>Chicco - Veilige Wattenstaafjes Sicurnet</td>\n",
       "      <td>5329407</td>\n",
       "      <td>Chicco</td>\n",
       "    </tr>\n",
       "  </tbody>\n",
       "</table>\n",
       "</div>"
      ],
      "text/plain": [
       "          global_id                                     title  brand_id  \\\n",
       "0  9000000012514720       Beurer BS69 Spiegel met Verlichting   4493486   \n",
       "1  9000000012514722       Beurer BS49 Spiegel met Verlichting   4493486   \n",
       "2  9200000002890724  Chicco - Veilige Wattenstaafjes Sicurnet   5329407   \n",
       "\n",
       "  brand_name  \n",
       "0     Beurer  \n",
       "1     Beurer  \n",
       "2     Chicco  "
      ]
     },
     "execution_count": 4,
     "metadata": {},
     "output_type": "execute_result"
    }
   ],
   "source": [
    "# all data with brand_id filled\n",
    "df_brand.head(3)"
   ]
  },
  {
   "cell_type": "code",
   "execution_count": 5,
   "metadata": {},
   "outputs": [],
   "source": [
    "# get indices for train and test split\n",
    "train_index, test_index = train_test_split(\n",
    "    df_brand.index, \n",
    "    test_size=0.2, \n",
    "    shuffle=True,\n",
    "    random_state=42\n",
    ")"
   ]
  },
  {
   "cell_type": "code",
   "execution_count": 6,
   "metadata": {},
   "outputs": [],
   "source": [
    "# create train and test set\n",
    "X = df_brand['title']\n",
    "y = df_brand['brand_id']\n",
    "\n",
    "X_train, y_train = X.iloc[train_index], y.iloc[train_index]\n",
    "X_test, y_test = X.iloc[test_index], y.iloc[test_index]"
   ]
  },
  {
   "cell_type": "code",
   "execution_count": 7,
   "metadata": {},
   "outputs": [],
   "source": [
    "# set up pipeline for training model: first vectorizing title and then using a linear classifier\n",
    "pipeline = Pipeline([\n",
    "    ('tf_idf', TfidfVectorizer(strip_accents='unicode', ngram_range=(1,2), sublinear_tf=True, max_features=10000)),\n",
    "    ('sgd', SGDClassifier(loss='modified_huber', verbose=0, max_iter=50, tol=1e-3, n_iter_no_change=5))\n",
    "])"
   ]
  },
  {
   "cell_type": "code",
   "execution_count": 8,
   "metadata": {},
   "outputs": [],
   "source": [
    "# train the model\n",
    "beauty_brand_model = pipeline.fit(X_train, y_train)"
   ]
  },
  {
   "cell_type": "code",
   "execution_count": 9,
   "metadata": {},
   "outputs": [
    {
     "name": "stdout",
     "output_type": "stream",
     "text": [
      "Train accuracy: 0.986681234066906\n",
      "Test accuracy:  0.9357053682896379\n"
     ]
    }
   ],
   "source": [
    "# check accuracy\n",
    "print(f'Train accuracy: {accuracy_score(y_train, beauty_brand_model.predict(X_train))}')\n",
    "print(f'Test accuracy:  {accuracy_score(y_test, beauty_brand_model.predict(X_test))}')"
   ]
  },
  {
   "cell_type": "code",
   "execution_count": 10,
   "metadata": {},
   "outputs": [],
   "source": [
    "# have a dictionary that can convert a predicted brand_id to the corresponding brand_name\n",
    "brand_id_to_brandname = (df_brand[['brand_id', 'brand_name']]\n",
    "    .drop_duplicates(subset=['brand_id'])\n",
    "    .set_index('brand_id')\n",
    "    .to_dict().get('brand_name')\n",
    ")"
   ]
  },
  {
   "cell_type": "code",
   "execution_count": 11,
   "metadata": {},
   "outputs": [],
   "source": [
    "# for a given title return the top 3 brands + probabilities\n",
    "def predict_top3_brands_for_title(title):\n",
    "    probas = beauty_brand_model.predict_proba(title).ravel()\n",
    "    top3_index = np.argsort(probas)[::-1][:3]\n",
    "    top3_brandids = beauty_brand_model.named_steps['sgd'].classes_[top3_index]\n",
    "    top3_values = probas[top3_index].round(3)\n",
    "    top3_brand_id_to_proba = dict(zip(top3_brandids, top3_values))\n",
    "    \n",
    "    for brand_id in top3_brandids:\n",
    "        print(f'brandid: {brand_id}\\n'\n",
    "              f'brandname: {brand_id_to_brandname[brand_id]}\\n'\n",
    "              f'probability: {top3_brand_id_to_proba[brand_id]}\\n'\n",
    "              f'------------------------\\n'\n",
    "        )"
   ]
  },
  {
   "cell_type": "code",
   "execution_count": 12,
   "metadata": {},
   "outputs": [
    {
     "name": "stdout",
     "output_type": "stream",
     "text": [
      "brandid: 8092907\n",
      "brandname: Rimmel London\n",
      "probability: 0.997\n",
      "------------------------\n",
      "\n",
      "brandid: 14538509\n",
      "brandname: MijnBaard\n",
      "probability: 0.002\n",
      "------------------------\n",
      "\n",
      "brandid: 14865608\n",
      "brandname: Courrèges\n",
      "probability: 0.001\n",
      "------------------------\n",
      "\n"
     ]
    }
   ],
   "source": [
    "# test function for title\n",
    "predict_top3_brands_for_title(['Rimmel'])"
   ]
  },
  {
   "cell_type": "code",
   "execution_count": 13,
   "metadata": {},
   "outputs": [
    {
     "data": {
      "text/plain": [
       "['beauty_brand_model.joblib']"
      ]
     },
     "execution_count": 13,
     "metadata": {},
     "output_type": "execute_result"
    }
   ],
   "source": [
    "# save trained model to disk\n",
    "dump(beauty_brand_model, 'beauty_brand_model.joblib', compress=True)"
   ]
  },
  {
   "cell_type": "code",
   "execution_count": 14,
   "metadata": {},
   "outputs": [
    {
     "data": {
      "text/plain": [
       "['brand_id_to_brandname.joblib']"
      ]
     },
     "execution_count": 14,
     "metadata": {},
     "output_type": "execute_result"
    }
   ],
   "source": [
    "# save dictionary that translates brand_ids to brandnames\n",
    "dump(brand_id_to_brandname, 'brand_id_to_brandname.joblib')"
   ]
  }
 ],
 "metadata": {
  "kernelspec": {
   "display_name": "openu3",
   "language": "python",
   "name": "openu3"
  },
  "language_info": {
   "codemirror_mode": {
    "name": "ipython",
    "version": 3
   },
   "file_extension": ".py",
   "mimetype": "text/x-python",
   "name": "python",
   "nbconvert_exporter": "python",
   "pygments_lexer": "ipython3",
   "version": "3.6.2"
  }
 },
 "nbformat": 4,
 "nbformat_minor": 2
}
